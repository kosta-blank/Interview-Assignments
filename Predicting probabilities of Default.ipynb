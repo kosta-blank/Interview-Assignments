{
 "cells": [
  {
   "cell_type": "code",
   "execution_count": 1,
   "metadata": {
    "collapsed": false
   },
   "outputs": [],
   "source": [
    "import pandas as pd\n",
    "import numpy as np\n",
    "from sklearn.ensemble import RandomForestClassifier\n",
    "from sklearn.metrics import log_loss\n",
    "import math "
   ]
  },
  {
   "cell_type": "code",
   "execution_count": 2,
   "metadata": {
    "collapsed": true
   },
   "outputs": [],
   "source": [
    "# Load libraries\n",
    "from pandas.tools.plotting import scatter_matrix\n",
    "import matplotlib.pyplot as plt\n",
    "from sklearn import model_selection\n",
    "from sklearn.metrics import classification_report\n",
    "from sklearn.metrics import confusion_matrix\n",
    "from sklearn.metrics import accuracy_score\n",
    "from sklearn.linear_model import LogisticRegression\n",
    "from sklearn.tree import DecisionTreeClassifier\n",
    "from sklearn.neighbors import KNeighborsClassifier\n"
   ]
  },
  {
   "cell_type": "code",
   "execution_count": 3,
   "metadata": {
    "collapsed": false
   },
   "outputs": [],
   "source": [
    "df = pd.read_csv('C:/Users/Kosta/Desktop/Modelling/train.csv', header=0)\n",
    "pd.set_option('display.max_columns', 25)"
   ]
  },
  {
   "cell_type": "code",
   "execution_count": 4,
   "metadata": {
    "collapsed": false
   },
   "outputs": [
    {
     "data": {
      "text/html": [
       "<div>\n",
       "<table border=\"1\" class=\"dataframe\">\n",
       "  <thead>\n",
       "    <tr style=\"text-align: right;\">\n",
       "      <th></th>\n",
       "      <th>customer_id</th>\n",
       "      <th>limit_bal</th>\n",
       "      <th>sex</th>\n",
       "      <th>education</th>\n",
       "      <th>marriage</th>\n",
       "      <th>age</th>\n",
       "      <th>pay_1</th>\n",
       "      <th>pay_2</th>\n",
       "      <th>pay_3</th>\n",
       "      <th>pay_4</th>\n",
       "      <th>pay_5</th>\n",
       "      <th>pay_6</th>\n",
       "      <th>bill_amt1</th>\n",
       "      <th>bill_amt2</th>\n",
       "      <th>bill_amt3</th>\n",
       "      <th>bill_amt4</th>\n",
       "      <th>bill_amt5</th>\n",
       "      <th>bill_amt6</th>\n",
       "      <th>pay_amt1</th>\n",
       "      <th>pay_amt2</th>\n",
       "      <th>pay_amt3</th>\n",
       "      <th>pay_amt4</th>\n",
       "      <th>pay_amt5</th>\n",
       "      <th>pay_amt6</th>\n",
       "      <th>default_oct</th>\n",
       "    </tr>\n",
       "  </thead>\n",
       "  <tbody>\n",
       "    <tr>\n",
       "      <th>0</th>\n",
       "      <td>1</td>\n",
       "      <td>1500</td>\n",
       "      <td>2.0</td>\n",
       "      <td>1.0</td>\n",
       "      <td>2.0</td>\n",
       "      <td>23.0</td>\n",
       "      <td>0.0</td>\n",
       "      <td>0.0</td>\n",
       "      <td>0.0</td>\n",
       "      <td>2.0</td>\n",
       "      <td>2.0</td>\n",
       "      <td>0.0</td>\n",
       "      <td>1452</td>\n",
       "      <td>1503</td>\n",
       "      <td>1482</td>\n",
       "      <td>1463</td>\n",
       "      <td>938.0</td>\n",
       "      <td>698.0</td>\n",
       "      <td>75</td>\n",
       "      <td>150</td>\n",
       "      <td>86</td>\n",
       "      <td>0</td>\n",
       "      <td>50.0</td>\n",
       "      <td>50.0</td>\n",
       "      <td>yes</td>\n",
       "    </tr>\n",
       "    <tr>\n",
       "      <th>1</th>\n",
       "      <td>2</td>\n",
       "      <td>8500</td>\n",
       "      <td>2.0</td>\n",
       "      <td>2.0</td>\n",
       "      <td>2.0</td>\n",
       "      <td>29.0</td>\n",
       "      <td>0.0</td>\n",
       "      <td>0.0</td>\n",
       "      <td>0.0</td>\n",
       "      <td>0.0</td>\n",
       "      <td>0.0</td>\n",
       "      <td>0.0</td>\n",
       "      <td>8079</td>\n",
       "      <td>8175</td>\n",
       "      <td>8300</td>\n",
       "      <td>8364</td>\n",
       "      <td>8275.0</td>\n",
       "      <td>8425.0</td>\n",
       "      <td>300</td>\n",
       "      <td>400</td>\n",
       "      <td>315</td>\n",
       "      <td>300</td>\n",
       "      <td>325.0</td>\n",
       "      <td>305.0</td>\n",
       "      <td>no</td>\n",
       "    </tr>\n",
       "    <tr>\n",
       "      <th>2</th>\n",
       "      <td>3</td>\n",
       "      <td>1000</td>\n",
       "      <td>1.0</td>\n",
       "      <td>1.0</td>\n",
       "      <td>2.0</td>\n",
       "      <td>22.0</td>\n",
       "      <td>0.0</td>\n",
       "      <td>0.0</td>\n",
       "      <td>0.0</td>\n",
       "      <td>0.0</td>\n",
       "      <td>0.0</td>\n",
       "      <td>0.0</td>\n",
       "      <td>733</td>\n",
       "      <td>831</td>\n",
       "      <td>896</td>\n",
       "      <td>933</td>\n",
       "      <td>772.0</td>\n",
       "      <td>794.0</td>\n",
       "      <td>150</td>\n",
       "      <td>150</td>\n",
       "      <td>150</td>\n",
       "      <td>24</td>\n",
       "      <td>105.0</td>\n",
       "      <td>110.0</td>\n",
       "      <td>no</td>\n",
       "    </tr>\n",
       "    <tr>\n",
       "      <th>3</th>\n",
       "      <td>4</td>\n",
       "      <td>10500</td>\n",
       "      <td>1.0</td>\n",
       "      <td>1.0</td>\n",
       "      <td>1.0</td>\n",
       "      <td>31.0</td>\n",
       "      <td>0.0</td>\n",
       "      <td>0.0</td>\n",
       "      <td>0.0</td>\n",
       "      <td>0.0</td>\n",
       "      <td>0.0</td>\n",
       "      <td>0.0</td>\n",
       "      <td>7049</td>\n",
       "      <td>7011</td>\n",
       "      <td>7077</td>\n",
       "      <td>7190</td>\n",
       "      <td>7229.0</td>\n",
       "      <td>7340.0</td>\n",
       "      <td>255</td>\n",
       "      <td>260</td>\n",
       "      <td>258</td>\n",
       "      <td>260</td>\n",
       "      <td>265.0</td>\n",
       "      <td>307.0</td>\n",
       "      <td>no</td>\n",
       "    </tr>\n",
       "    <tr>\n",
       "      <th>4</th>\n",
       "      <td>5</td>\n",
       "      <td>10500</td>\n",
       "      <td>2.0</td>\n",
       "      <td>2.0</td>\n",
       "      <td>1.0</td>\n",
       "      <td>44.0</td>\n",
       "      <td>0.0</td>\n",
       "      <td>0.0</td>\n",
       "      <td>0.0</td>\n",
       "      <td>0.0</td>\n",
       "      <td>0.0</td>\n",
       "      <td>0.0</td>\n",
       "      <td>4487</td>\n",
       "      <td>4501</td>\n",
       "      <td>3533</td>\n",
       "      <td>3558</td>\n",
       "      <td>3592.0</td>\n",
       "      <td>3496.0</td>\n",
       "      <td>180</td>\n",
       "      <td>155</td>\n",
       "      <td>145</td>\n",
       "      <td>130</td>\n",
       "      <td>135.0</td>\n",
       "      <td>200.0</td>\n",
       "      <td>no</td>\n",
       "    </tr>\n",
       "  </tbody>\n",
       "</table>\n",
       "</div>"
      ],
      "text/plain": [
       "   customer_id  limit_bal  sex  education  marriage   age  pay_1  pay_2  \\\n",
       "0            1       1500  2.0        1.0       2.0  23.0    0.0    0.0   \n",
       "1            2       8500  2.0        2.0       2.0  29.0    0.0    0.0   \n",
       "2            3       1000  1.0        1.0       2.0  22.0    0.0    0.0   \n",
       "3            4      10500  1.0        1.0       1.0  31.0    0.0    0.0   \n",
       "4            5      10500  2.0        2.0       1.0  44.0    0.0    0.0   \n",
       "\n",
       "   pay_3  pay_4  pay_5  pay_6  bill_amt1  bill_amt2  bill_amt3  bill_amt4  \\\n",
       "0    0.0    2.0    2.0    0.0       1452       1503       1482       1463   \n",
       "1    0.0    0.0    0.0    0.0       8079       8175       8300       8364   \n",
       "2    0.0    0.0    0.0    0.0        733        831        896        933   \n",
       "3    0.0    0.0    0.0    0.0       7049       7011       7077       7190   \n",
       "4    0.0    0.0    0.0    0.0       4487       4501       3533       3558   \n",
       "\n",
       "   bill_amt5  bill_amt6  pay_amt1  pay_amt2  pay_amt3  pay_amt4  pay_amt5  \\\n",
       "0      938.0      698.0        75       150        86         0      50.0   \n",
       "1     8275.0     8425.0       300       400       315       300     325.0   \n",
       "2      772.0      794.0       150       150       150        24     105.0   \n",
       "3     7229.0     7340.0       255       260       258       260     265.0   \n",
       "4     3592.0     3496.0       180       155       145       130     135.0   \n",
       "\n",
       "   pay_amt6 default_oct  \n",
       "0      50.0         yes  \n",
       "1     305.0          no  \n",
       "2     110.0          no  \n",
       "3     307.0          no  \n",
       "4     200.0          no  "
      ]
     },
     "execution_count": 4,
     "metadata": {},
     "output_type": "execute_result"
    }
   ],
   "source": [
    "df.head(5)"
   ]
  },
  {
   "cell_type": "code",
   "execution_count": 5,
   "metadata": {
    "collapsed": false
   },
   "outputs": [],
   "source": [
    "#df.dtypes"
   ]
  },
  {
   "cell_type": "code",
   "execution_count": 6,
   "metadata": {
    "collapsed": false
   },
   "outputs": [],
   "source": [
    "# convert the values into categories for categorical values\n",
    "marriage_vals = df.marriage.unique().astype('int')\n",
    "df['marriage'] = df['marriage'].astype(\"category\", categories=marriage_vals, ordered=False)\n",
    "# add marriage level that wasn't defined as \"Others\" category\n",
    "df.loc[df.marriage==0, 'marriage'] = 3\n",
    "\n",
    "# get all uniques values for education\n",
    "education_vals = np.sort(df.education.unique()).astype('int')\n",
    "df['education'] = df['education'].astype(\"category\", categories=education_vals, ordered=True)\n",
    "# combine education levels that are not defined into \"Others\" category\n",
    "df.loc[(df.education==0) | (df.education==5) | (df.education==6), 'education'] = 4\n",
    "\n",
    "# get unique identifiers for sex variable\n",
    "sex_vals = df.sex.unique().astype('int')\n",
    "df['sex'] = df['sex'].astype(\"category\", categories=sex_vals, ordered=False)"
   ]
  },
  {
   "cell_type": "code",
   "execution_count": 7,
   "metadata": {
    "collapsed": false
   },
   "outputs": [],
   "source": [
    "# add a numeric target instead of string\n",
    "df.loc[df['default_oct'] == 'yes', 'default'] = 1\n",
    "df.loc[df['default_oct'] == 'no', 'default'] = 0"
   ]
  },
  {
   "cell_type": "code",
   "execution_count": 8,
   "metadata": {
    "collapsed": false
   },
   "outputs": [],
   "source": [
    "# combine the values of -2 and 0 into the same bin as -1 for \"duly paid\"\n",
    "df.loc[(df.pay_1==-2) | (df.pay_1==0), 'pay_1'] = -1\n",
    "df.loc[(df.pay_2==-2) | (df.pay_2==0), 'pay_2'] = -1\n",
    "df.loc[(df.pay_3==-2) | (df.pay_3==0), 'pay_3'] = -1\n",
    "df.loc[(df.pay_4==-2) | (df.pay_4==0), 'pay_4'] = -1\n",
    "df.loc[(df.pay_5==-2) | (df.pay_5==0), 'pay_5'] = -1\n",
    "df.loc[(df.pay_6==-2) | (df.pay_6==0), 'pay_6'] = -1"
   ]
  },
  {
   "cell_type": "code",
   "execution_count": 9,
   "metadata": {
    "collapsed": false
   },
   "outputs": [],
   "source": [
    "#impute continuous values by taking their median since the distribution of the variables is very skewed\n",
    "df.pay_amt5 = df.pay_amt5.fillna(df.pay_amt5.median())\n",
    "df.pay_amt6 = df.pay_amt6.fillna(df.pay_amt6.median())\n",
    "\n",
    "df.bill_amt5 = df.bill_amt5.fillna(df.bill_amt5.median())\n",
    "df.bill_amt6 = df.bill_amt6.fillna(df.bill_amt6.median())"
   ]
  },
  {
   "cell_type": "code",
   "execution_count": 10,
   "metadata": {
    "collapsed": false
   },
   "outputs": [],
   "source": [
    "# impute categorical values and keep the imputed values\n",
    "pay_5_imputed = df.pay_5.median()\n",
    "pay_6_imputed = df.pay_6.median()\n",
    "\n",
    "df.pay_5 = df.pay_5.fillna(pay_5_imputed)\n",
    "df.pay_6 = df.pay_6.fillna(pay_6_imputed)"
   ]
  },
  {
   "cell_type": "code",
   "execution_count": 11,
   "metadata": {
    "collapsed": false
   },
   "outputs": [
    {
     "data": {
      "text/html": [
       "<div>\n",
       "<table border=\"1\" class=\"dataframe\">\n",
       "  <thead>\n",
       "    <tr style=\"text-align: right;\">\n",
       "      <th></th>\n",
       "      <th>customer_id</th>\n",
       "      <th>limit_bal</th>\n",
       "      <th>age</th>\n",
       "      <th>pay_1</th>\n",
       "      <th>pay_2</th>\n",
       "      <th>pay_3</th>\n",
       "      <th>pay_4</th>\n",
       "      <th>pay_5</th>\n",
       "      <th>pay_6</th>\n",
       "      <th>bill_amt1</th>\n",
       "      <th>bill_amt2</th>\n",
       "      <th>bill_amt3</th>\n",
       "      <th>bill_amt4</th>\n",
       "      <th>bill_amt5</th>\n",
       "      <th>bill_amt6</th>\n",
       "      <th>pay_amt1</th>\n",
       "      <th>pay_amt2</th>\n",
       "      <th>pay_amt3</th>\n",
       "      <th>pay_amt4</th>\n",
       "      <th>pay_amt5</th>\n",
       "      <th>pay_amt6</th>\n",
       "      <th>default</th>\n",
       "    </tr>\n",
       "  </thead>\n",
       "  <tbody>\n",
       "    <tr>\n",
       "      <th>count</th>\n",
       "      <td>24001.000000</td>\n",
       "      <td>24001.000000</td>\n",
       "      <td>24001.000000</td>\n",
       "      <td>24001.000000</td>\n",
       "      <td>24001.000000</td>\n",
       "      <td>24001.000000</td>\n",
       "      <td>24001.000000</td>\n",
       "      <td>24001.000000</td>\n",
       "      <td>24001.000000</td>\n",
       "      <td>24001.000000</td>\n",
       "      <td>24001.000000</td>\n",
       "      <td>24001.000000</td>\n",
       "      <td>24001.000000</td>\n",
       "      <td>24001.000000</td>\n",
       "      <td>24001.000000</td>\n",
       "      <td>24001.000000</td>\n",
       "      <td>24001.000000</td>\n",
       "      <td>24001.000000</td>\n",
       "      <td>24001.000000</td>\n",
       "      <td>24001.000000</td>\n",
       "      <td>24001.000000</td>\n",
       "      <td>24001.000000</td>\n",
       "    </tr>\n",
       "    <tr>\n",
       "      <th>mean</th>\n",
       "      <td>12001.000000</td>\n",
       "      <td>8351.302029</td>\n",
       "      <td>35.498438</td>\n",
       "      <td>-0.415733</td>\n",
       "      <td>-0.530686</td>\n",
       "      <td>-0.555810</td>\n",
       "      <td>-0.618974</td>\n",
       "      <td>-0.680305</td>\n",
       "      <td>-0.684263</td>\n",
       "      <td>2574.245865</td>\n",
       "      <td>2467.107037</td>\n",
       "      <td>2359.795592</td>\n",
       "      <td>2175.804383</td>\n",
       "      <td>2015.902837</td>\n",
       "      <td>1904.590121</td>\n",
       "      <td>281.079955</td>\n",
       "      <td>298.237073</td>\n",
       "      <td>263.109704</td>\n",
       "      <td>243.367943</td>\n",
       "      <td>237.489563</td>\n",
       "      <td>247.358402</td>\n",
       "      <td>0.221199</td>\n",
       "    </tr>\n",
       "    <tr>\n",
       "      <th>std</th>\n",
       "      <td>6928.636241</td>\n",
       "      <td>6475.592450</td>\n",
       "      <td>9.222021</td>\n",
       "      <td>1.143092</td>\n",
       "      <td>1.149124</td>\n",
       "      <td>1.126527</td>\n",
       "      <td>1.074681</td>\n",
       "      <td>1.002289</td>\n",
       "      <td>0.986689</td>\n",
       "      <td>3706.812804</td>\n",
       "      <td>3585.952168</td>\n",
       "      <td>3499.639871</td>\n",
       "      <td>3244.170936</td>\n",
       "      <td>3053.391501</td>\n",
       "      <td>2948.341617</td>\n",
       "      <td>846.819525</td>\n",
       "      <td>1215.481369</td>\n",
       "      <td>899.406651</td>\n",
       "      <td>782.138847</td>\n",
       "      <td>776.511265</td>\n",
       "      <td>840.040275</td>\n",
       "      <td>0.415063</td>\n",
       "    </tr>\n",
       "    <tr>\n",
       "      <th>min</th>\n",
       "      <td>1.000000</td>\n",
       "      <td>500.000000</td>\n",
       "      <td>21.000000</td>\n",
       "      <td>-1.000000</td>\n",
       "      <td>-1.000000</td>\n",
       "      <td>-1.000000</td>\n",
       "      <td>-1.000000</td>\n",
       "      <td>-1.000000</td>\n",
       "      <td>-1.000000</td>\n",
       "      <td>-8279.000000</td>\n",
       "      <td>-3488.000000</td>\n",
       "      <td>-3075.000000</td>\n",
       "      <td>-8500.000000</td>\n",
       "      <td>-4066.000000</td>\n",
       "      <td>-10452.000000</td>\n",
       "      <td>0.000000</td>\n",
       "      <td>0.000000</td>\n",
       "      <td>0.000000</td>\n",
       "      <td>0.000000</td>\n",
       "      <td>0.000000</td>\n",
       "      <td>0.000000</td>\n",
       "      <td>0.000000</td>\n",
       "    </tr>\n",
       "    <tr>\n",
       "      <th>25%</th>\n",
       "      <td>6001.000000</td>\n",
       "      <td>2500.000000</td>\n",
       "      <td>28.000000</td>\n",
       "      <td>-1.000000</td>\n",
       "      <td>-1.000000</td>\n",
       "      <td>-1.000000</td>\n",
       "      <td>-1.000000</td>\n",
       "      <td>-1.000000</td>\n",
       "      <td>-1.000000</td>\n",
       "      <td>177.000000</td>\n",
       "      <td>147.000000</td>\n",
       "      <td>130.000000</td>\n",
       "      <td>116.000000</td>\n",
       "      <td>93.000000</td>\n",
       "      <td>76.000000</td>\n",
       "      <td>49.000000</td>\n",
       "      <td>41.000000</td>\n",
       "      <td>19.000000</td>\n",
       "      <td>15.000000</td>\n",
       "      <td>13.000000</td>\n",
       "      <td>12.000000</td>\n",
       "      <td>0.000000</td>\n",
       "    </tr>\n",
       "    <tr>\n",
       "      <th>50%</th>\n",
       "      <td>12001.000000</td>\n",
       "      <td>7000.000000</td>\n",
       "      <td>34.000000</td>\n",
       "      <td>-1.000000</td>\n",
       "      <td>-1.000000</td>\n",
       "      <td>-1.000000</td>\n",
       "      <td>-1.000000</td>\n",
       "      <td>-1.000000</td>\n",
       "      <td>-1.000000</td>\n",
       "      <td>1123.000000</td>\n",
       "      <td>1059.000000</td>\n",
       "      <td>1007.000000</td>\n",
       "      <td>953.000000</td>\n",
       "      <td>906.000000</td>\n",
       "      <td>855.500000</td>\n",
       "      <td>105.000000</td>\n",
       "      <td>100.000000</td>\n",
       "      <td>90.000000</td>\n",
       "      <td>75.000000</td>\n",
       "      <td>75.000000</td>\n",
       "      <td>75.000000</td>\n",
       "      <td>0.000000</td>\n",
       "    </tr>\n",
       "    <tr>\n",
       "      <th>75%</th>\n",
       "      <td>18001.000000</td>\n",
       "      <td>12000.000000</td>\n",
       "      <td>41.000000</td>\n",
       "      <td>-1.000000</td>\n",
       "      <td>-1.000000</td>\n",
       "      <td>-1.000000</td>\n",
       "      <td>-1.000000</td>\n",
       "      <td>-1.000000</td>\n",
       "      <td>-1.000000</td>\n",
       "      <td>3375.000000</td>\n",
       "      <td>3202.000000</td>\n",
       "      <td>3015.000000</td>\n",
       "      <td>2752.000000</td>\n",
       "      <td>2495.000000</td>\n",
       "      <td>2370.000000</td>\n",
       "      <td>250.000000</td>\n",
       "      <td>250.000000</td>\n",
       "      <td>227.000000</td>\n",
       "      <td>200.000000</td>\n",
       "      <td>200.000000</td>\n",
       "      <td>200.000000</td>\n",
       "      <td>0.000000</td>\n",
       "    </tr>\n",
       "    <tr>\n",
       "      <th>max</th>\n",
       "      <td>24001.000000</td>\n",
       "      <td>50000.000000</td>\n",
       "      <td>79.000000</td>\n",
       "      <td>8.000000</td>\n",
       "      <td>8.000000</td>\n",
       "      <td>8.000000</td>\n",
       "      <td>8.000000</td>\n",
       "      <td>8.000000</td>\n",
       "      <td>8.000000</td>\n",
       "      <td>48225.000000</td>\n",
       "      <td>49196.000000</td>\n",
       "      <td>83204.000000</td>\n",
       "      <td>44579.000000</td>\n",
       "      <td>46358.000000</td>\n",
       "      <td>48083.000000</td>\n",
       "      <td>43677.000000</td>\n",
       "      <td>84212.000000</td>\n",
       "      <td>44802.000000</td>\n",
       "      <td>31050.000000</td>\n",
       "      <td>21326.000000</td>\n",
       "      <td>26433.000000</td>\n",
       "      <td>1.000000</td>\n",
       "    </tr>\n",
       "  </tbody>\n",
       "</table>\n",
       "</div>"
      ],
      "text/plain": [
       "        customer_id     limit_bal           age         pay_1         pay_2  \\\n",
       "count  24001.000000  24001.000000  24001.000000  24001.000000  24001.000000   \n",
       "mean   12001.000000   8351.302029     35.498438     -0.415733     -0.530686   \n",
       "std     6928.636241   6475.592450      9.222021      1.143092      1.149124   \n",
       "min        1.000000    500.000000     21.000000     -1.000000     -1.000000   \n",
       "25%     6001.000000   2500.000000     28.000000     -1.000000     -1.000000   \n",
       "50%    12001.000000   7000.000000     34.000000     -1.000000     -1.000000   \n",
       "75%    18001.000000  12000.000000     41.000000     -1.000000     -1.000000   \n",
       "max    24001.000000  50000.000000     79.000000      8.000000      8.000000   \n",
       "\n",
       "              pay_3         pay_4         pay_5         pay_6     bill_amt1  \\\n",
       "count  24001.000000  24001.000000  24001.000000  24001.000000  24001.000000   \n",
       "mean      -0.555810     -0.618974     -0.680305     -0.684263   2574.245865   \n",
       "std        1.126527      1.074681      1.002289      0.986689   3706.812804   \n",
       "min       -1.000000     -1.000000     -1.000000     -1.000000  -8279.000000   \n",
       "25%       -1.000000     -1.000000     -1.000000     -1.000000    177.000000   \n",
       "50%       -1.000000     -1.000000     -1.000000     -1.000000   1123.000000   \n",
       "75%       -1.000000     -1.000000     -1.000000     -1.000000   3375.000000   \n",
       "max        8.000000      8.000000      8.000000      8.000000  48225.000000   \n",
       "\n",
       "          bill_amt2     bill_amt3     bill_amt4     bill_amt5     bill_amt6  \\\n",
       "count  24001.000000  24001.000000  24001.000000  24001.000000  24001.000000   \n",
       "mean    2467.107037   2359.795592   2175.804383   2015.902837   1904.590121   \n",
       "std     3585.952168   3499.639871   3244.170936   3053.391501   2948.341617   \n",
       "min    -3488.000000  -3075.000000  -8500.000000  -4066.000000 -10452.000000   \n",
       "25%      147.000000    130.000000    116.000000     93.000000     76.000000   \n",
       "50%     1059.000000   1007.000000    953.000000    906.000000    855.500000   \n",
       "75%     3202.000000   3015.000000   2752.000000   2495.000000   2370.000000   \n",
       "max    49196.000000  83204.000000  44579.000000  46358.000000  48083.000000   \n",
       "\n",
       "           pay_amt1      pay_amt2      pay_amt3      pay_amt4      pay_amt5  \\\n",
       "count  24001.000000  24001.000000  24001.000000  24001.000000  24001.000000   \n",
       "mean     281.079955    298.237073    263.109704    243.367943    237.489563   \n",
       "std      846.819525   1215.481369    899.406651    782.138847    776.511265   \n",
       "min        0.000000      0.000000      0.000000      0.000000      0.000000   \n",
       "25%       49.000000     41.000000     19.000000     15.000000     13.000000   \n",
       "50%      105.000000    100.000000     90.000000     75.000000     75.000000   \n",
       "75%      250.000000    250.000000    227.000000    200.000000    200.000000   \n",
       "max    43677.000000  84212.000000  44802.000000  31050.000000  21326.000000   \n",
       "\n",
       "           pay_amt6       default  \n",
       "count  24001.000000  24001.000000  \n",
       "mean     247.358402      0.221199  \n",
       "std      840.040275      0.415063  \n",
       "min        0.000000      0.000000  \n",
       "25%       12.000000      0.000000  \n",
       "50%       75.000000      0.000000  \n",
       "75%      200.000000      0.000000  \n",
       "max    26433.000000      1.000000  "
      ]
     },
     "execution_count": 11,
     "metadata": {},
     "output_type": "execute_result"
    }
   ],
   "source": [
    "df.describe()"
   ]
  },
  {
   "cell_type": "code",
   "execution_count": 12,
   "metadata": {
    "collapsed": false
   },
   "outputs": [],
   "source": [
    "# drop customer id since it isnt a predictor and the original target (since now we recoded it)\n",
    "del df['customer_id']\n",
    "del df['default_oct']"
   ]
  },
  {
   "cell_type": "code",
   "execution_count": 50,
   "metadata": {
    "collapsed": false
   },
   "outputs": [],
   "source": [
    "# try to get closer to equal split between defaults and non defaults\n",
    "# undersampling non-events\n",
    "yes = df.loc[df['default'] == 1]\n",
    "no = df.loc[df['default'] == 0]\n",
    "\n",
    "chosen_no = no.sample(n=7500, random_state=12345)\n",
    "\n",
    "df_reshaped = yes.append(chosen_no)\n",
    "df_reshaped = df\n",
    "\n",
    "# split into training and validation\n",
    "from sklearn.model_selection import train_test_split\n",
    "X_train, X_test, y_train, y_test = train_test_split(\n",
    "    df_reshaped.ix[:, df.columns != 'default'], df_reshaped['default'], test_size=0.8, random_state=0)\n",
    "\n"
   ]
  },
  {
   "cell_type": "code",
   "execution_count": 15,
   "metadata": {
    "collapsed": false
   },
   "outputs": [],
   "source": [
    "from sklearn.ensemble import GradientBoostingClassifier\n",
    "from sklearn.model_selection import GridSearchCV\n",
    "\n",
    "# gradient boosting\n",
    "param_grid_gb = { \n",
    "    'n_estimators': [700, 1250],\n",
    "    'max_features': ['auto', 'log2'],\n",
    "    'max_depth': [3,5,7,9],\n",
    "    'learning_rate': [0.01]  \n",
    "}\n",
    "\n",
    "gbm = GradientBoostingClassifier()\n",
    "gs_cv_gbm = GridSearchCV(estimator=gbm,param_grid=param_grid_gb, scoring='log_loss', n_jobs=11, cv=5, verbose=2)"
   ]
  },
  {
   "cell_type": "code",
   "execution_count": 16,
   "metadata": {
    "collapsed": false
   },
   "outputs": [
    {
     "name": "stdout",
     "output_type": "stream",
     "text": [
      "Fitting 5 folds for each of 16 candidates, totalling 80 fits\n"
     ]
    },
    {
     "name": "stderr",
     "output_type": "stream",
     "text": [
      "[Parallel(n_jobs=11)]: Done  19 tasks      | elapsed:   21.7s\n",
      "[Parallel(n_jobs=11)]: Done  80 out of  80 | elapsed:  3.4min finished\n"
     ]
    },
    {
     "name": "stdout",
     "output_type": "stream",
     "text": [
      "(0.43524997975891749, 0.6471028842346632)\n"
     ]
    }
   ],
   "source": [
    "# fit the model\n",
    "gs_cv_gbm.fit(X_train,y_train)\n",
    "# calculate accuracy\n",
    "preds = gs_cv_gbm.predict_proba(X_test)[:,1]\n",
    "log_gb = log_loss(y_test, preds)\n",
    "acc_gb = math.exp(-log_gb)\n",
    "# print log loss and accuracy\n",
    "print(log_gb, acc_gb)"
   ]
  },
  {
   "cell_type": "code",
   "execution_count": 18,
   "metadata": {
    "collapsed": true
   },
   "outputs": [],
   "source": [
    "# TRY A DIFFERENT MODEL"
   ]
  },
  {
   "cell_type": "code",
   "execution_count": 21,
   "metadata": {
    "collapsed": true
   },
   "outputs": [],
   "source": [
    "# random forest\n",
    "param_grid_rf = { \n",
    "    'n_estimators': [250,500, 750],\n",
    "    'max_features': ['auto', 'log2'],\n",
    "    'max_depth': [3,5,7,9],\n",
    "    'oob_score':[True],\n",
    "    'class_weight':['balanced_subsample',None],\n",
    "    'criterion':['gini','entropy']\n",
    "}\n",
    "\n",
    "# since scoring is done on OOB observations - no need for CV\n",
    "rmf = RandomForestClassifier()\n",
    "gs_rf = GridSearchCV(estimator=rmf,param_grid=param_grid_rf, scoring='log_loss', n_jobs=11, verbose=2)"
   ]
  },
  {
   "cell_type": "code",
   "execution_count": 22,
   "metadata": {
    "collapsed": false
   },
   "outputs": [
    {
     "name": "stdout",
     "output_type": "stream",
     "text": [
      "Fitting 3 folds for each of 96 candidates, totalling 288 fits\n"
     ]
    },
    {
     "name": "stderr",
     "output_type": "stream",
     "text": [
      "[Parallel(n_jobs=11)]: Done  19 tasks      | elapsed:   20.8s\n",
      "[Parallel(n_jobs=11)]: Done 140 tasks      | elapsed:  2.4min\n",
      "[Parallel(n_jobs=11)]: Done 288 out of 288 | elapsed:  4.5min finished\n"
     ]
    },
    {
     "name": "stdout",
     "output_type": "stream",
     "text": [
      "(0.43750415788812091, 0.6456458418991347)\n"
     ]
    }
   ],
   "source": [
    "# build the model\n",
    "gs_rf.fit(X_train,y_train)\n",
    "# get the validation log loss\n",
    "preds_rf = gs_rf.predict_proba(X_test)[:,1]\n",
    "log_rf = log_loss(y_test, preds_rf)\n",
    "acc = math.exp(-log_rf)\n",
    "# print log loss and accuracy\n",
    "print(log_rf, acc)"
   ]
  },
  {
   "cell_type": "code",
   "execution_count": 74,
   "metadata": {
    "collapsed": false
   },
   "outputs": [
    {
     "name": "stdout",
     "output_type": "stream",
     "text": [
      "Fitting 3 folds for each of 48 candidates, totalling 144 fits\n"
     ]
    },
    {
     "name": "stderr",
     "output_type": "stream",
     "text": [
      "[Parallel(n_jobs=11)]: Done  10 tasks      | elapsed:   12.1s\n",
      "[Parallel(n_jobs=11)]: Done 106 tasks      | elapsed:  1.7min\n"
     ]
    },
    {
     "name": "stdout",
     "output_type": "stream",
     "text": [
      "Iteration 1, loss = 0.54995451\n",
      "Validation score: 0.785417\n",
      "Iteration 2, loss = 0.52941041\n",
      "Validation score: 0.785417\n",
      "Iteration 3, loss = 0.52632000\n",
      "Validation score: 0.785417\n",
      "Iteration 4, loss = 0.52596471\n",
      "Validation score: 0.785417\n",
      "Validation score did not improve more than tol=0.000100 for two consecutive epochs. Stopping.\n"
     ]
    },
    {
     "name": "stderr",
     "output_type": "stream",
     "text": [
      "[Parallel(n_jobs=11)]: Done 144 out of 144 | elapsed:  1.9min finished\n"
     ]
    },
    {
     "data": {
      "text/plain": [
       "GridSearchCV(cv=None, error_score='raise',\n",
       "       estimator=MLPClassifier(activation='relu', alpha=0.0001, batch_size='auto', beta_1=0.9,\n",
       "       beta_2=0.999, early_stopping=False, epsilon=1e-08,\n",
       "       hidden_layer_sizes=(100,), learning_rate='constant',\n",
       "       learning_rate_init=0.001, max_iter=200, momentum=0.9,\n",
       "       nesterovs_momentum=True, power_t=0.5, random_state=None,\n",
       "       shuffle=True, solver='adam', tol=0.0001, validation_fraction=0.1,\n",
       "       verbose=False, warm_start=False),\n",
       "       fit_params={}, iid=True, n_jobs=11,\n",
       "       param_grid={'max_iter': [250], 'verbose': [True], 'random_state': [2415], 'hidden_layer_sizes': [(25, 20, 15), (100, 50, 25, 15, 5)], 'alpha': [0.0001, 5e-05], 'activation': ['logistic', 'tanh', 'relu'], 'solver': ['lbfgs', 'adam'], 'learning_rate': ['constant', 'adaptive'], 'early_stopping': [True]},\n",
       "       pre_dispatch='2*n_jobs', refit=True, return_train_score=True,\n",
       "       scoring='accuracy', verbose=3)"
      ]
     },
     "execution_count": 74,
     "metadata": {},
     "output_type": "execute_result"
    }
   ],
   "source": [
    "# neural network\n",
    "from sklearn.neural_network import MLPClassifier\n",
    "import ipykernel\n",
    "param_grid_nn = { \n",
    "   'hidden_layer_sizes':[(25,20,15),(100,50,25,15,5)],\n",
    "   'activation':['logistic','tanh', 'relu'],\n",
    "    'solver':['lbfgs', 'adam'],\n",
    "    'alpha':[0.0001,0.00005],\n",
    "   'learning_rate':['constant','adaptive'],\n",
    "   'max_iter':[250],\n",
    "   'random_state':[2415],\n",
    "   'verbose' : [True],\n",
    "   'early_stopping' : [True]\n",
    "}\n",
    "\n",
    "nnet = MLPClassifier()\n",
    "gs_nn = GridSearchCV(estimator=nnet,param_grid=param_grid_nn, scoring='accuracy', n_jobs=11, verbose=3)\n",
    "\n",
    "gs_nn.fit(X_train,y_train)\n",
    "#gs_nn.get_params().keys()\n",
    "\n"
   ]
  },
  {
   "cell_type": "code",
   "execution_count": 68,
   "metadata": {
    "collapsed": false
   },
   "outputs": [
    {
     "name": "stdout",
     "output_type": "stream",
     "text": [
      "(0.51760863386285139, 0.5959439655544209)\n"
     ]
    }
   ],
   "source": [
    "# get the validation log loss\n",
    "preds_nnet = gs_nn.predict_proba(X_test)[:,1]\n",
    "log_nnet = log_loss(y_test, preds_nnet)\n",
    "acc_nnet = math.exp(-log_nnet)\n",
    "print(log_nnet, acc_nnet)"
   ]
  }
 ],
 "metadata": {
  "anaconda-cloud": {},
  "kernelspec": {
   "display_name": "Python [conda root]",
   "language": "python",
   "name": "conda-root-py"
  },
  "language_info": {
   "codemirror_mode": {
    "name": "ipython",
    "version": 2
   },
   "file_extension": ".py",
   "mimetype": "text/x-python",
   "name": "python",
   "nbconvert_exporter": "python",
   "pygments_lexer": "ipython2",
   "version": "2.7.12"
  }
 },
 "nbformat": 4,
 "nbformat_minor": 1
}
